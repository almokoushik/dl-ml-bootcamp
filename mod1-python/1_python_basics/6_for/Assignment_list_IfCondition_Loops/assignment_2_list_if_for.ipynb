{
 "cells": [
  {
   "cell_type": "markdown",
   "metadata": {},
   "source": [
    "<h2 align=\"center\" style=\"color:blue\">Codebasics Python Course: Exercise - List, If Condition, For Loop</h2>"
   ]
  },
  {
   "cell_type": "markdown",
   "metadata": {},
   "source": [
    "### Task 1\n",
    "\n",
    "1. You are a Marvel fan and created a list of superheroes.\n",
    "\n",
    "```py\n",
    "avengers  = [‘Iron Man’, ‘Captain America’, ‘Black Widow’, ‘Hulk’, ‘Thor’, ‘Hawkeye’]\n",
    "```\n",
    "\n",
    "Using this list, calculate how many members in the Avengers team?\n",
    "\n"
   ]
  },
  {
   "cell_type": "code",
   "execution_count": 1,
   "metadata": {},
   "outputs": [],
   "source": [
    "avengers  = ['Iron Man', 'Captain America', 'Black Widow', 'Hulk', 'Thor', 'Hawkeye']"
   ]
  },
  {
   "cell_type": "code",
   "execution_count": 2,
   "metadata": {},
   "outputs": [
    {
     "name": "stdout",
     "output_type": "stream",
     "text": [
      "6\n"
     ]
    }
   ],
   "source": [
    "# write your code here to print total number of members in avengers team\n",
    "print(len(avengers))"
   ]
  },
  {
   "cell_type": "code",
   "execution_count": null,
   "metadata": {},
   "outputs": [
    {
     "name": "stdout",
     "output_type": "stream",
     "text": [
      "6\n",
      "6\n",
      "6\n",
      "6\n"
     ]
    }
   ],
   "source": [
    "step=0\n",
    "\n",
    "for i in avengers:\n",
    "    step+=1\n",
    "    \n",
    "print(step)\n",
    "\n",
    "\n",
    "for i in range(len(avengers)):\n",
    "    step = i\n",
    "\n",
    "print(step+1)\n",
    "\n",
    "\n",
    "for i,val in enumerate(avengers):\n",
    "    step = i\n",
    "    \n",
    "print(step+1)\n",
    "\n",
    "\n",
    "for key, val in zip(range(len(avengers)), avengers):\n",
    "    step = key\n",
    "    \n",
    "print(step+1)"
   ]
  },
  {
   "cell_type": "markdown",
   "metadata": {},
   "source": [
    "### Task 2\n",
    "\n",
    "Awesome. Now Iron Man made Spider-Man a new member of the Avengers, add him to your list at the end"
   ]
  },
  {
   "cell_type": "code",
   "execution_count": 9,
   "metadata": {},
   "outputs": [
    {
     "name": "stdout",
     "output_type": "stream",
     "text": [
      "['Iron Man', 'Captain America', 'Black Widow', 'Hulk', 'Thor', 'Hawkeye', 'Spider-Man']\n"
     ]
    }
   ],
   "source": [
    "# write your code here\n",
    "avengers.append(\"Spider-Man\")\n",
    "print(avengers)"
   ]
  },
  {
   "cell_type": "markdown",
   "metadata": {},
   "source": [
    "### Task 3\n",
    "\n",
    "Looks like you are loving this avengers exercise already😄, Let's add a twist to it. Everyone came to a conclusion that Captain America is the leader of the Avengers, so please add him before the Iron Man. Hint: You can first remove him from the list and add before the Iron Man. To remove him you can use a method called .pop()\n",
    "\n",
    "💡 Feel free to take help of ChatGPT just in case you are confused about pop() method. Remember becoming a good Python programmer is all about how well you can learn new things on your own"
   ]
  },
  {
   "cell_type": "code",
   "execution_count": 11,
   "metadata": {},
   "outputs": [
    {
     "name": "stdout",
     "output_type": "stream",
     "text": [
      "['Captain America', 'Iron Man', 'Black Widow', 'Hulk', 'Thor', 'Hawkeye', 'Spider-Man']\n"
     ]
    }
   ],
   "source": [
    "# write your code here\n",
    "\n",
    "first= avengers.pop(1)\n",
    "avengers.insert(0,first)\n",
    "print(avengers)\n",
    "\n"
   ]
  },
  {
   "cell_type": "markdown",
   "metadata": {},
   "source": [
    "### Task 4\n",
    "\n",
    "Thor and Hulk are getting angry easily and fight with each other. So you have to separate them with each other. To separate them, move “Black Widow” in between them."
   ]
  },
  {
   "cell_type": "code",
   "execution_count": 12,
   "metadata": {},
   "outputs": [
    {
     "name": "stdout",
     "output_type": "stream",
     "text": [
      "['Captain America', 'Iron Man', 'Hulk', 'Black Widow', 'Thor', 'Hawkeye', 'Spider-Man']\n"
     ]
    }
   ],
   "source": [
    "# write your code here\n",
    "\n",
    "bw= avengers.pop(3)\n",
    "avengers.insert(2,bw)\n",
    "print(avengers)"
   ]
  },
  {
   "cell_type": "markdown",
   "metadata": {
    "id": "QAGsAcQXOm1c"
   },
   "source": [
    "### Task 5\n",
    "\n",
    "Below list contains scores of students in a class as per their roll number. Which means the first element is for roll # 1, second one is for roll # 2 and so on. Print the scores of,\n",
    "\n",
    "1. The first student\n",
    "1. The last student\n",
    "1. First 3 students\n",
    "1. Scores of roll # 3, 4 and 5"
   ]
  },
  {
   "cell_type": "code",
   "execution_count": 13,
   "metadata": {
    "id": "5DbTb-5gOecw"
   },
   "outputs": [],
   "source": [
    "scores = [92, 85, 76, 58, 89, 91, 73, 84]"
   ]
  },
  {
   "cell_type": "code",
   "execution_count": 14,
   "metadata": {
    "colab": {
     "base_uri": "https://localhost:8080/"
    },
    "id": "lhYIkj4WPNA_",
    "outputId": "714b44ae-e309-45d2-c29d-6617cbecc508"
   },
   "outputs": [
    {
     "data": {
      "text/plain": [
       "92"
      ]
     },
     "execution_count": 14,
     "metadata": {},
     "output_type": "execute_result"
    }
   ],
   "source": [
    "# score of the first student\n",
    "scores[0]"
   ]
  },
  {
   "cell_type": "code",
   "execution_count": 15,
   "metadata": {
    "colab": {
     "base_uri": "https://localhost:8080/"
    },
    "id": "VzxH3ly_POxS",
    "outputId": "e5723459-a55a-4e24-93fc-5afe1a99ca60"
   },
   "outputs": [
    {
     "data": {
      "text/plain": [
       "84"
      ]
     },
     "execution_count": 15,
     "metadata": {},
     "output_type": "execute_result"
    }
   ],
   "source": [
    "# score of the last student\n",
    "scores[-1]"
   ]
  },
  {
   "cell_type": "code",
   "execution_count": 16,
   "metadata": {},
   "outputs": [
    {
     "name": "stdout",
     "output_type": "stream",
     "text": [
      "92\n",
      "85\n",
      "76\n"
     ]
    }
   ],
   "source": [
    "# scores of the first 3 students\n",
    "for res in scores[0:3]:\n",
    "    print(res)"
   ]
  },
  {
   "cell_type": "code",
   "execution_count": 17,
   "metadata": {
    "scrolled": true
   },
   "outputs": [
    {
     "name": "stdout",
     "output_type": "stream",
     "text": [
      "76\n",
      "58\n",
      "89\n"
     ]
    }
   ],
   "source": [
    "# scores of roll # 3, 4 and 5\n",
    "for res in scores[2:5]:\n",
    "    print(res)"
   ]
  },
  {
   "cell_type": "markdown",
   "metadata": {},
   "source": [
    "### Task 6\n",
    "\n",
    "We got a result of one more student which is 83 marks. Append this to the ```scores``` at the end and print the list"
   ]
  },
  {
   "cell_type": "code",
   "execution_count": 18,
   "metadata": {
    "colab": {
     "base_uri": "https://localhost:8080/",
     "height": 130
    },
    "id": "qHskWLeFPUSa",
    "outputId": "45d183f1-a28a-4e80-aee3-90d984dbbfae"
   },
   "outputs": [
    {
     "data": {
      "text/plain": [
       "[92, 85, 76, 58, 89, 91, 73, 84, 83]"
      ]
     },
     "execution_count": 18,
     "metadata": {},
     "output_type": "execute_result"
    }
   ],
   "source": [
    "# write your code here\n",
    "scores.append(83)\n",
    "scores"
   ]
  },
  {
   "cell_type": "markdown",
   "metadata": {},
   "source": [
    "### Task 7\n",
    "\n",
    "Categorizes each score into a grade based on the following thresholds:\n",
    "\n",
    "1. A: 90 to 100\n",
    "1. B: 80 to 89\n",
    "1. C: 70 to 79\n",
    "1. D: 60 to 69\n",
    "1. F: Below 60\n",
    "\n",
    "Count the number of students in each grade category and print the summary of how many students received each grade. \n",
    "\n",
    "Expected output\n",
    "\n",
    "```\n",
    "Grade Summary:\n",
    "- A: 2 students\n",
    "- B: 4 students\n",
    "- C: 2 students\n",
    "- D: 0 students\n",
    "- F: 1 students\n",
    "```"
   ]
  },
  {
   "cell_type": "code",
   "execution_count": 19,
   "metadata": {
    "id": "h-7Ro-oVQDVB"
   },
   "outputs": [
    {
     "name": "stdout",
     "output_type": "stream",
     "text": [
      "A:  2\n",
      "B:  4\n",
      "C:  2\n",
      "D:  0\n",
      "F:  1\n"
     ]
    }
   ],
   "source": [
    "# write your code here\n",
    "\n",
    "A=0\n",
    "B=0\n",
    "C=0 \n",
    "D=0 \n",
    "F=0\n",
    "for res in scores:\n",
    "    if res>=90 and res<=100:\n",
    "        A+=1\n",
    "    elif res>=80 and res<90:\n",
    "        B+=1\n",
    "    elif res>=70 and res<80:\n",
    "        C+=1\n",
    "    elif res>=60 and res<70:\n",
    "        D+=1\n",
    "    elif res>=0 and res<60:\n",
    "        F+=1\n",
    "print(\"A: \", A) \n",
    "print(\"B: \", B)\n",
    "print(\"C: \", C)\n",
    "print(\"D: \", D)\n",
    "print(\"F: \", F)\n",
    "# write your code here"
   ]
  },
  {
   "cell_type": "markdown",
   "metadata": {},
   "source": [
    "### Task 8\n",
    "\n",
    "Managing inventory efficiently is crucial for businesses to ensure they do not run out of key products. This exercise simulates a simple inventory management system where the user can see which items are below the minimum stock level and need reordering. Below you have two lists that stores product names and their inventory stock levels.Using that,\n",
    "\n",
    "1. Check each item to see if its stock level is below a minimum threshold.\n",
    "1. If the stock level is below the minimum, add the product's name to a reorder list.\n",
    "1. Print a list of products that need to be reordered.\n",
    "\n",
    "Expected Output\n",
    "```\n",
    "Items to Reorder:\n",
    "- Pears\n",
    "- Grapes\n",
    "```"
   ]
  },
  {
   "cell_type": "code",
   "execution_count": 21,
   "metadata": {
    "scrolled": true
   },
   "outputs": [],
   "source": [
    "# Lists to store product names and stock levels\n",
    "product_names = [\"Apples\", \"Bananas\", \"Oranges\", \"Pears\", \"Grapes\"]\n",
    "stock_levels = [20, 50, 15, 5, 8]\n",
    "\n",
    "minimum_stock = 10  # Minimum stock before reordering"
   ]
  },
  {
   "cell_type": "code",
   "execution_count": 23,
   "metadata": {},
   "outputs": [
    {
     "name": "stdout",
     "output_type": "stream",
     "text": [
      "Reorder Pears - Current stock: 5\n",
      "Reorder Grapes - Current stock: 8\n"
     ]
    }
   ],
   "source": [
    "# write your code here\n",
    "for p, s in zip(product_names, stock_levels):\n",
    "    if s < minimum_stock:\n",
    "        print(f\"Reorder {p} - Current stock: {s}\")\n"
   ]
  }
 ],
 "metadata": {
  "colab": {
   "collapsed_sections": [],
   "name": "1_Variables.ipynb",
   "provenance": []
  },
  "kernelspec": {
   "display_name": "Python 3",
   "language": "python",
   "name": "python3"
  },
  "language_info": {
   "codemirror_mode": {
    "name": "ipython",
    "version": 3
   },
   "file_extension": ".py",
   "mimetype": "text/x-python",
   "name": "python",
   "nbconvert_exporter": "python",
   "pygments_lexer": "ipython3",
   "version": "3.10.17"
  }
 },
 "nbformat": 4,
 "nbformat_minor": 1
}
